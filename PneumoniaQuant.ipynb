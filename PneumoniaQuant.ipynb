{
  "nbformat": 4,
  "nbformat_minor": 0,
  "metadata": {
    "colab": {
      "name": "PneumoniaQuant.ipynb",
      "provenance": [],
      "toc_visible": true,
      "mount_file_id": "1K2o9RGDl8l5ne_Q7XJTSnzSm_TifrmSy",
      "authorship_tag": "ABX9TyNE/0ZVMn0+AjYgsoCfK4bL",
      "include_colab_link": true
    },
    "kernelspec": {
      "name": "python3",
      "display_name": "Python 3"
    }
  },
  "cells": [
    {
      "cell_type": "markdown",
      "metadata": {
        "id": "view-in-github",
        "colab_type": "text"
      },
      "source": [
        "<a href=\"https://colab.research.google.com/github/Aaron-AB/GSOC---LibreHealth/blob/master/PneumoniaQuant.ipynb\" target=\"_parent\"><img src=\"https://colab.research.google.com/assets/colab-badge.svg\" alt=\"Open In Colab\"/></a>"
      ]
    },
    {
      "cell_type": "code",
      "metadata": {
        "id": "IcBNjAS3A0OZ",
        "colab_type": "code",
        "colab": {
          "base_uri": "https://localhost:8080/",
          "height": 34
        },
        "outputId": "c0d259d7-7f52-436b-e136-ae04357b7b02"
      },
      "source": [
        "%tensorflow_version 2.x\n",
        "\n",
        "import tensorflow as tf\n",
        "\n",
        "\n",
        "converter = tf.lite.TFLiteConverter.from_saved_model('/content/drive/My Drive/PneumoniaModel/')\n",
        "converter.optimizations = [tf.lite.Optimize.DEFAULT]\n",
        "tflite_model = converter.convert()\n",
        "with open('/content/drive/My Drive/PneumoniaQuant.tflite', 'wb') as f:\n",
        "  f.write(tflite_model)"
      ],
      "execution_count": 1,
      "outputs": [
        {
          "output_type": "stream",
          "text": [
            "TensorFlow 2.x selected.\n"
          ],
          "name": "stdout"
        }
      ]
    }
  ]
}